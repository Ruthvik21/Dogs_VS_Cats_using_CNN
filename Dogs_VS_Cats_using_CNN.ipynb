{
  "cells": [
    {
      "cell_type": "code",
      "execution_count": null,
      "id": "99af4f2a",
      "metadata": {
        "id": "99af4f2a"
      },
      "outputs": [],
      "source": [
        "import tensorflow as tf"
      ]
    },
    {
      "cell_type": "code",
      "execution_count": null,
      "id": "74e41c96",
      "metadata": {
        "id": "74e41c96"
      },
      "outputs": [],
      "source": [
        "from keras.preprocessing.image import ImageDataGenerator\n"
      ]
    },
    {
      "cell_type": "code",
      "execution_count": null,
      "id": "2afc7928",
      "metadata": {
        "id": "2afc7928",
        "outputId": "80365ed6-eafc-440f-bebf-e367bff052f5"
      },
      "outputs": [
        {
          "name": "stdout",
          "output_type": "stream",
          "text": [
            "Found 8005 images belonging to 2 classes.\n"
          ]
        }
      ],
      "source": [
        "train_dataset = ImageDataGenerator(rescale = 1./255,\n",
        "                                   shear_range = 0.2,\n",
        "                                  zoom_range = 0.2,\n",
        "                                  horizontal_flip = True)\n",
        "train_generator = train_dataset.flow_from_directory(\n",
        "        'dataset/training_set/training_set',\n",
        "        target_size=(64, 64),\n",
        "        batch_size=32,\n",
        "        class_mode='binary')"
      ]
    },
    {
      "cell_type": "code",
      "execution_count": null,
      "id": "4328c9ab",
      "metadata": {
        "id": "4328c9ab",
        "outputId": "7361d2e9-c88b-4150-9a24-93da655363df"
      },
      "outputs": [
        {
          "name": "stdout",
          "output_type": "stream",
          "text": [
            "Found 2023 images belonging to 2 classes.\n"
          ]
        }
      ],
      "source": [
        "test_datagen = ImageDataGenerator(rescale=1./255)\n",
        "\n",
        "validation_generator = test_datagen.flow_from_directory(\n",
        "        'dataset/test_set/test_set',\n",
        "        target_size=(150, 150),\n",
        "        batch_size=32,\n",
        "        class_mode='binary')"
      ]
    },
    {
      "cell_type": "code",
      "execution_count": null,
      "id": "84d8fc3a",
      "metadata": {
        "id": "84d8fc3a"
      },
      "outputs": [],
      "source": [
        "#building the cnn model\n",
        "cnn = tf.keras.models.Sequential()  #initialized"
      ]
    },
    {
      "cell_type": "code",
      "execution_count": null,
      "id": "8b754430",
      "metadata": {
        "id": "8b754430"
      },
      "outputs": [],
      "source": [
        "#convolution\n",
        "cnn.add(tf.keras.layers.Conv2D(filters = 32, kernel_size = 3, activation = 'relu', input_shape = [64,64,3]))"
      ]
    },
    {
      "cell_type": "code",
      "execution_count": null,
      "id": "e01f9a0f",
      "metadata": {
        "id": "e01f9a0f"
      },
      "outputs": [],
      "source": [
        "#pooling\n",
        "cnn.add(tf.keras.layers.MaxPool2D(pool_size = 2, strides = 2))"
      ]
    },
    {
      "cell_type": "code",
      "execution_count": null,
      "id": "b6ae64bd",
      "metadata": {
        "id": "b6ae64bd"
      },
      "outputs": [],
      "source": [
        "#adding another layer\n",
        "cnn.add(tf.keras.layers.Conv2D(filters = 32, kernel_size = 3, activation = 'relu'))\n",
        "cnn.add(tf.keras.layers.MaxPool2D(pool_size = 2, strides = 2))"
      ]
    },
    {
      "cell_type": "code",
      "execution_count": null,
      "id": "5e13c5fd",
      "metadata": {
        "id": "5e13c5fd"
      },
      "outputs": [],
      "source": [
        "#flattening dataset\n",
        "cnn.add(tf.keras.layers.Flatten())\n",
        "#full connection\n",
        "cnn.add(tf.keras.layers.Dense(units = 128, activation = 'relu'))"
      ]
    },
    {
      "cell_type": "code",
      "execution_count": null,
      "id": "3bfb5939",
      "metadata": {
        "id": "3bfb5939"
      },
      "outputs": [],
      "source": [
        "#output layers\n",
        "cnn.add(tf.keras.layers.Dense(units = 1,activation = 'sigmoid'))"
      ]
    },
    {
      "cell_type": "code",
      "execution_count": null,
      "id": "f03dc845",
      "metadata": {
        "id": "f03dc845"
      },
      "outputs": [],
      "source": [
        "#compiling the model\n",
        "cnn.compile(optimizer = 'Adam', loss = 'binary_crossentropy',metrics = ['accuracy'])"
      ]
    },
    {
      "cell_type": "code",
      "execution_count": null,
      "id": "a2acad72",
      "metadata": {
        "id": "a2acad72"
      },
      "outputs": [],
      "source": [
        "#training the model\n",
        "history = cnn.fit(x = train_generator, validation_data = train_generator, epochs = 1) \n",
        "#i have a very basic laptop so my kernel kept dying."
      ]
    },
    {
      "cell_type": "code",
      "execution_count": null,
      "id": "27d468e1",
      "metadata": {
        "id": "27d468e1"
      },
      "outputs": [],
      "source": [
        "#making prediction\n",
        "import numpy as np\n",
        "from keras.preprocessing import image\n",
        "test_image = image.load_ing(\"dataset/prediction/predict_1.jpg\"),target_size = (64,64))\n",
        "test_image = image.ing_to_array(test_image)\n",
        "test-image = np.expand_dins(test_image,axis = 0)\n",
        "result = cnn.predict(test_image)\n",
        "if result[0][0] == 1:  #if its a dog\n",
        "    prediction = 'dog'\n",
        "else:\n",
        "    prediction = 'cat'\n",
        "    \n",
        "print(prediction)"
      ]
    },
    {
      "cell_type": "code",
      "execution_count": null,
      "id": "c5ca91e7",
      "metadata": {
        "id": "c5ca91e7"
      },
      "outputs": [],
      "source": [
        "import matplotlib.pyplot as plt\n",
        "print(history.history.keys()) #for loss,accuracy,val_loss,val_accuracy"
      ]
    },
    {
      "cell_type": "code",
      "execution_count": null,
      "id": "2cd4d401",
      "metadata": {
        "id": "2cd4d401"
      },
      "outputs": [],
      "source": [
        "plt.plot(history.history['accuracy'])"
      ]
    }
  ],
  "metadata": {
    "kernelspec": {
      "display_name": "Python 3 (ipykernel)",
      "language": "python",
      "name": "python3"
    },
    "language_info": {
      "codemirror_mode": {
        "name": "ipython",
        "version": 3
      },
      "file_extension": ".py",
      "mimetype": "text/x-python",
      "name": "python",
      "nbconvert_exporter": "python",
      "pygments_lexer": "ipython3",
      "version": "3.9.12"
    },
    "colab": {
      "provenance": []
    }
  },
  "nbformat": 4,
  "nbformat_minor": 5
}